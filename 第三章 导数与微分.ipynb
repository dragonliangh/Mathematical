{
 "cells": [
  {
   "metadata": {},
   "cell_type": "markdown",
   "source": "                    第三章   导数与微分",
   "id": "665d1889d5bcd824"
  },
  {
   "metadata": {},
   "cell_type": "markdown",
   "source": "                        3.1 导数的概念",
   "id": "e70dc70b3175840"
  },
  {
   "metadata": {},
   "cell_type": "markdown",
   "source": "sympy中函数diff()用来求导。diff()函数有两种使用方法。",
   "id": "b868bc1a16f5ef13"
  },
  {
   "metadata": {},
   "cell_type": "markdown",
   "source": [
    "1、f(x).diff(x)\n",
    "2、diff(f(x),x)。\n",
    "都表示求函数f(x)关于x的一阶导数。"
   ],
   "id": "6ef3bb0ba695078c"
  },
  {
   "metadata": {},
   "cell_type": "markdown",
   "source": [
    "求高阶导数，可适当增加参数。\n",
    "\n",
    "1、diff(f(x),x,x,x)\n",
    "2、diff(f(x),x,3)\n",
    "都是求三阶导数"
   ],
   "id": "9277ef4c8c1728da"
  },
  {
   "metadata": {},
   "cell_type": "markdown",
   "source": "【例3.1】求函数f(x)=C(C为常数)的导数",
   "id": "b11466bac8707f0"
  },
  {
   "metadata": {
    "ExecuteTime": {
     "end_time": "2025-03-11T14:23:24.270568Z",
     "start_time": "2025-03-11T14:23:24.260893Z"
    }
   },
   "cell_type": "code",
   "source": [
    "import sympy as sy\n",
    "\n",
    "x,C = sy.symbols('x C')\n",
    "#第一种求导的方式：f(x).diff(x)\n",
    "print(C.diff(x))"
   ],
   "id": "9933ddd7f10c6ecf",
   "outputs": [
    {
     "name": "stdout",
     "output_type": "stream",
     "text": [
      "0\n"
     ]
    }
   ],
   "execution_count": 18
  },
  {
   "metadata": {},
   "cell_type": "markdown",
   "source": "【例3.2】求幂函数f(x) = x^u(u属于R）的导数。",
   "id": "555783f2b264efc5"
  },
  {
   "metadata": {
    "ExecuteTime": {
     "end_time": "2025-03-11T14:23:40.983129Z",
     "start_time": "2025-03-11T14:23:40.971749Z"
    }
   },
   "cell_type": "code",
   "source": [
    "import sympy as sy\n",
    "\n",
    "x,u = sy.symbols('x u')\n",
    "f = x**u\n",
    "print(\"幂函数f(x)=x^u的导数为：\",f.diff(x))"
   ],
   "id": "b5dea63a51917831",
   "outputs": [
    {
     "name": "stdout",
     "output_type": "stream",
     "text": [
      "幂函数f(x)=x^u的导数为： u*x**u/x\n"
     ]
    }
   ],
   "execution_count": 20
  },
  {
   "metadata": {},
   "cell_type": "markdown",
   "source": "【例3.3】求函数f(x) = sin(x)的导数。",
   "id": "39aa09758285b2dc"
  },
  {
   "metadata": {
    "ExecuteTime": {
     "end_time": "2025-03-11T14:24:15.830624Z",
     "start_time": "2025-03-11T14:24:15.821704Z"
    }
   },
   "cell_type": "code",
   "source": [
    "import sympy as sy\n",
    "\n",
    "x = sy.symbols('x')\n",
    "f = sy.sin(x)\n",
    "print(f.diff(x))"
   ],
   "id": "1c78fb1b1f0e2427",
   "outputs": [
    {
     "name": "stdout",
     "output_type": "stream",
     "text": [
      "cos(x)\n"
     ]
    }
   ],
   "execution_count": 22
  },
  {
   "metadata": {},
   "cell_type": "markdown",
   "source": "【例3.4】求函数f(x) = a^x (a>0,a不等于1)的导数。",
   "id": "8eb31d25629dbbc8"
  },
  {
   "metadata": {
    "ExecuteTime": {
     "end_time": "2025-03-11T14:25:08.246666Z",
     "start_time": "2025-03-11T14:25:08.239587Z"
    }
   },
   "cell_type": "code",
   "source": [
    "import sympy as sy\n",
    "\n",
    "a = sy.symbols('a',positive=True)\n",
    "x= sy.symbols('x')\n",
    "f = (a**x)\n",
    "print(f.diff(x))"
   ],
   "id": "c6d2518dcebd3c1a",
   "outputs": [
    {
     "name": "stdout",
     "output_type": "stream",
     "text": [
      "a**x*log(a)\n"
     ]
    }
   ],
   "execution_count": 25
  },
  {
   "metadata": {},
   "cell_type": "markdown",
   "source": "【例3.5】求函数f(x) = log_a(x)的导数。其中a>0,且不等于1。\n",
   "id": "9f8fbd7170b011e6"
  },
  {
   "metadata": {
    "ExecuteTime": {
     "end_time": "2025-03-11T14:25:29.261853Z",
     "start_time": "2025-03-11T14:25:29.252632Z"
    }
   },
   "cell_type": "code",
   "source": [
    "import sympy as sy\n",
    "\n",
    "x,a = sy.symbols('x a')\n",
    "f = sy.log(x,a)\n",
    "print(f.diff(x))"
   ],
   "id": "d2585db9ed5c7928",
   "outputs": [
    {
     "name": "stdout",
     "output_type": "stream",
     "text": [
      "1/(x*log(a))\n"
     ]
    }
   ],
   "execution_count": 26
  },
  {
   "metadata": {},
   "cell_type": "markdown",
   "source": "【例3.6】求函数f(x) = ln(x)的导数。",
   "id": "18c37dc7c51a1b82"
  },
  {
   "metadata": {
    "ExecuteTime": {
     "end_time": "2025-03-11T14:01:09.413566Z",
     "start_time": "2025-03-11T14:01:09.408078Z"
    }
   },
   "cell_type": "code",
   "source": [
    "import sympy as sy\n",
    "\n",
    "x = sy.symbols('x')\n",
    "f = sy.ln(x)\n",
    "print(f.diff(x))"
   ],
   "id": "e8b84c7ec77c0585",
   "outputs": [
    {
     "name": "stdout",
     "output_type": "stream",
     "text": [
      "1/x\n"
     ]
    }
   ],
   "execution_count": 11
  },
  {
   "metadata": {},
   "cell_type": "markdown",
   "source": "若要求导函数在某一点的函数值，可以使用subs()函数。例如求sin(x)的导数在x=0处的函数值。",
   "id": "9d22ce3a7d52ef7d"
  },
  {
   "metadata": {
    "ExecuteTime": {
     "end_time": "2025-03-11T14:27:49.459023Z",
     "start_time": "2025-03-11T14:27:49.452381Z"
    }
   },
   "cell_type": "code",
   "source": [
    "import sympy as sy\n",
    "\n",
    "x = sy.symbols('x')\n",
    "f = sy.sin(x)\n",
    "print(f.diff(x).subs(x,0))\n",
    "print(sy.diff(f,x).subs(x,0))"
   ],
   "id": "aad5316176596a5e",
   "outputs": [
    {
     "name": "stdout",
     "output_type": "stream",
     "text": [
      "1\n",
      "1\n"
     ]
    }
   ],
   "execution_count": 28
  },
  {
   "metadata": {},
   "cell_type": "markdown",
   "source": "                    3.2 函数的求导法则",
   "id": "57fa096cc8ed5239"
  },
  {
   "metadata": {},
   "cell_type": "markdown",
   "source": "【例3.7】已知y = 2*x^3-5*x^2+3*x-7,求y的导数。",
   "id": "793044b335f7267c"
  },
  {
   "metadata": {
    "ExecuteTime": {
     "end_time": "2025-03-11T14:28:28.290444Z",
     "start_time": "2025-03-11T14:28:28.282459Z"
    }
   },
   "cell_type": "code",
   "source": [
    "import sympy as sy\n",
    "\n",
    "x = sy.symbols('x')\n",
    "f = (2*x**3-5*x**2+3*x-7)\n",
    "print(f.diff(x))"
   ],
   "id": "6f788a10338e0eac",
   "outputs": [
    {
     "name": "stdout",
     "output_type": "stream",
     "text": [
      "6*x**2 - 10*x + 3\n"
     ]
    }
   ],
   "execution_count": 30
  },
  {
   "metadata": {},
   "cell_type": "markdown",
   "source": "【例3.8】【例3.9】【例3.10】【例3.11】【例3.12】【例3.13】【例3.14】略",
   "id": "6d6869b99b59e163"
  },
  {
   "metadata": {},
   "cell_type": "markdown",
   "source": "【3.15】已知y = e**(x**3),求y的导数。",
   "id": "f934c52d9fa08b17"
  },
  {
   "metadata": {
    "ExecuteTime": {
     "end_time": "2025-03-11T14:31:41.197838Z",
     "start_time": "2025-03-11T14:31:41.190089Z"
    }
   },
   "cell_type": "code",
   "source": [
    "import sympy as sy\n",
    "\n",
    "x = sy.symbols('x')\n",
    "u = x**3\n",
    "y = sy.E**u\n",
    "print(y.diff(x))"
   ],
   "id": "9f045aed09203a3e",
   "outputs": [
    {
     "name": "stdout",
     "output_type": "stream",
     "text": [
      "3*x**2*exp(x**3)\n"
     ]
    }
   ],
   "execution_count": 32
  },
  {
   "metadata": {},
   "cell_type": "markdown",
   "source": "符合函数求导，u和y的定义顺序不能颠倒。",
   "id": "e4a633f9bde03099"
  },
  {
   "metadata": {},
   "cell_type": "markdown",
   "source": "【例3.16】已知y = sin(2*x/(1+x**2),求y的导数。",
   "id": "7eac2211655f1ccf"
  },
  {
   "metadata": {
    "ExecuteTime": {
     "end_time": "2025-03-11T14:48:05.833928Z",
     "start_time": "2025-03-11T14:48:05.286773Z"
    }
   },
   "cell_type": "code",
   "source": [
    "import sympy as sy\n",
    "\n",
    "x = sy.symbols('x')\n",
    "y = sy.sin((2*x)/(1+x**2))\n",
    "print(sy.simplify(y.diff(x)))"
   ],
   "id": "546a3d766d28f21f",
   "outputs": [
    {
     "name": "stdout",
     "output_type": "stream",
     "text": [
      "-2*(x**2 - 1)*cos(2*x/(x**2 + 1))/(x**2 + 1)**2\n"
     ]
    }
   ],
   "execution_count": 37
  },
  {
   "metadata": {},
   "cell_type": "markdown",
   "source": "函数simplify()的作用是化简结果。",
   "id": "56ebaa9706cf6ab"
  },
  {
   "metadata": {},
   "cell_type": "markdown",
   "source": "【例3.17】已知y = sin(nx)sin(x)**n(n为常数），求y的导数。",
   "id": "ae21b6e8d6a8b625"
  },
  {
   "metadata": {
    "ExecuteTime": {
     "end_time": "2025-03-11T14:50:28.898345Z",
     "start_time": "2025-03-11T14:50:28.809887Z"
    }
   },
   "cell_type": "code",
   "source": [
    "import sympy as sy\n",
    "x = sy.symbols('x')\n",
    "n = sy.symbols('n',constant = True)\n",
    "y = sy.sin(n*x)*sy.sin(x)**n\n",
    "print(sy.simplify(y.diff(x)))"
   ],
   "id": "56847bc730e8a586",
   "outputs": [
    {
     "name": "stdout",
     "output_type": "stream",
     "text": [
      "n*sin(x)**(n - 1)*sin(n*x + x)\n"
     ]
    }
   ],
   "execution_count": 39
  },
  {
   "metadata": {},
   "cell_type": "markdown",
   "source": "                    3.3 高阶导数",
   "id": "8312b6ef78bb8416"
  },
  {
   "metadata": {},
   "cell_type": "markdown",
   "source": "【例3.15】已知y = ax+b，求y的二阶导数。",
   "id": "5fb2d95e31ba46c0"
  },
  {
   "metadata": {
    "ExecuteTime": {
     "end_time": "2025-03-11T15:15:36.483350Z",
     "start_time": "2025-03-11T15:15:36.400144Z"
    }
   },
   "cell_type": "code",
   "source": [
    "import sympy as sy\n",
    "\n",
    "x = sy.symbols('x')\n",
    "a,b = sy.symbols('a b')\n",
    "y = a*x+b\n",
    "print(y.diff(x,2))"
   ],
   "id": "94ea05bf1f91c0e1",
   "outputs": [
    {
     "name": "stdout",
     "output_type": "stream",
     "text": [
      "0\n"
     ]
    }
   ],
   "execution_count": 40
  },
  {
   "metadata": {},
   "cell_type": "markdown",
   "source": "【例3.19】已知s = sin(wt),求s的二阶导数。",
   "id": "af5734d9b245cd2"
  },
  {
   "metadata": {
    "ExecuteTime": {
     "end_time": "2025-03-11T15:18:26.670274Z",
     "start_time": "2025-03-11T15:18:26.634355Z"
    }
   },
   "cell_type": "code",
   "source": [
    "import sympy as sy\n",
    "\n",
    "w,t = sy.symbols('w t')\n",
    "y = sy.sin(w*t)\n",
    "print(y.diff(t,2))"
   ],
   "id": "153f477a8a676ee9",
   "outputs": [
    {
     "name": "stdout",
     "output_type": "stream",
     "text": [
      "-w**2*sin(t*w)\n"
     ]
    }
   ],
   "execution_count": 41
  },
  {
   "metadata": {},
   "cell_type": "markdown",
   "source": "【例3.20】证明函数y=(2x-x^2)**0.5满足y^3y\"+1=0。",
   "id": "c0020115445c5597"
  },
  {
   "metadata": {
    "ExecuteTime": {
     "end_time": "2025-03-11T15:30:12.979285Z",
     "start_time": "2025-03-11T15:30:12.958467Z"
    }
   },
   "cell_type": "code",
   "source": [
    "import sympy as sy\n",
    "\n",
    "# 定义符号变量\n",
    "x = sy.symbols('x')\n",
    "\n",
    "# 定义函数\n",
    "y = sy.sqrt(2*x - x**2)\n",
    "\n",
    "# 计算二阶导数\n",
    "y_double_prime = sy.diff(y,x,2)\n",
    "\n",
    "# 验证微分方程\n",
    "equation = y**3 * y_double_prime + 1\n",
    "\n",
    "# 打印结果\n",
    "print(\"y 的二阶导数为:\")\n",
    "print(y_double_prime)\n",
    "print(\"验证微分方程 y^3 y'' + 1 = 0 是否成立:\")\n",
    "print(sy.simplify(equation) == 0)"
   ],
   "id": "a797f035081d14cd",
   "outputs": [
    {
     "name": "stdout",
     "output_type": "stream",
     "text": [
      "y 的二阶导数为:\n",
      "-(1 + (x - 1)**2/(x*(2 - x)))/sqrt(x*(2 - x))\n",
      "验证微分方程 y^3 y'' + 1 = 0 是否成立:\n",
      "True\n"
     ]
    }
   ],
   "execution_count": 50
  },
  {
   "metadata": {},
   "cell_type": "markdown",
   "source": "这里二阶导数化简不充分，但不影响计算。",
   "id": "4ab023ebb40ec57d"
  },
  {
   "metadata": {},
   "cell_type": "markdown",
   "source": "【例3.21】求指数函数y = e^x的n阶导数。",
   "id": "6ea151f1c9d5c88c"
  },
  {
   "metadata": {
    "ExecuteTime": {
     "end_time": "2025-03-11T15:38:16.583915Z",
     "start_time": "2025-03-11T15:38:16.577165Z"
    }
   },
   "cell_type": "code",
   "source": [
    "import sympy as sy\n",
    "\n",
    "x = sy.symbols('x')\n",
    "n = sy.symbols('n',integer=True,positive=True)\n",
    "y = sy.E**x\n",
    "print(sy.simplify(y.diff(x,n)))"
   ],
   "id": "9acbde29e68ca3a1",
   "outputs": [
    {
     "name": "stdout",
     "output_type": "stream",
     "text": [
      "0\n"
     ]
    }
   ],
   "execution_count": 52
  },
  {
   "metadata": {},
   "cell_type": "markdown",
   "source": [
    "这段代码输出的结果与预期的结果不一致，e^x的n阶导数还是e^x。\n",
    "错误的原因是diff()函数被认为先对符号x求导，然后对符号n求导。\n",
    "解决这个问题有两种处理方式，\n",
    "一是输入任意n，求导；"
   ],
   "id": "bbcf29775f6f4394"
  },
  {
   "metadata": {
    "ExecuteTime": {
     "end_time": "2025-03-11T15:54:56.480864Z",
     "start_time": "2025-03-11T15:54:48.683151Z"
    }
   },
   "cell_type": "code",
   "source": [
    "import sympy as sy\n",
    "\n",
    "x = sy.symbols('x')\n",
    "n = input(\"请输入具体的n阶导数\")\n",
    "y = sy.E**x\n",
    "print(sy.simplify(y.diff(x,n)))\n"
   ],
   "id": "f38d5b0185f6bc7f",
   "outputs": [
    {
     "name": "stdout",
     "output_type": "stream",
     "text": [
      "exp(x)\n"
     ]
    }
   ],
   "execution_count": 55
  },
  {
   "metadata": {},
   "cell_type": "markdown",
   "source": "二是sympy.Derivative() 是 SymPy 库中的一个类，用于表示符号化的导数（即未计算的导数）。它不会立即计算导数的值，而是返回一个符号化的导数表达式。这在需要表示导数但不需要立即计算的情况下非常有用",
   "id": "3c465ae357b7ba42"
  },
  {
   "metadata": {
    "ExecuteTime": {
     "end_time": "2025-03-11T15:54:05.134816Z",
     "start_time": "2025-03-11T15:54:05.116059Z"
    }
   },
   "cell_type": "code",
   "source": [
    "import sympy as sy\n",
    "\n",
    "# 定义符号变量\n",
    "x = sy.symbols('x')\n",
    "n = sy.symbols('n', integer=True, positive=True)\n",
    "\n",
    "# 定义函数\n",
    "y = sy.E**x\n",
    "\n",
    "# 符号化表示 n 阶导数\n",
    "nth_derivative = sy.Derivative(y, (x, n))\n",
    "\n",
    "# 打印结果\n",
    "print(f\"y 的 {n} 阶导数为:\")\n",
    "print(nth_derivative)"
   ],
   "id": "8bf66d6fbac7555d",
   "outputs": [
    {
     "name": "stdout",
     "output_type": "stream",
     "text": [
      "y 的 n 阶导数为:\n",
      "Derivative(exp(x), (x, n))\n"
     ]
    }
   ],
   "execution_count": 54
  },
  {
   "metadata": {},
   "cell_type": "markdown",
   "source": "【例3.22】已知y = x^2*e^(2x),求y的20阶导数。",
   "id": "94316f26849d03fe"
  },
  {
   "metadata": {
    "ExecuteTime": {
     "end_time": "2025-03-12T13:55:13.690041Z",
     "start_time": "2025-03-12T13:55:12.855514Z"
    }
   },
   "cell_type": "code",
   "source": [
    "import sympy as sy\n",
    "\n",
    "x = sy.symbols('x')\n",
    "y = x**2*sy.E**(2*x)\n",
    "print(sy.simplify(y.diff(x,20)))"
   ],
   "id": "fde13da1a2562eeb",
   "outputs": [
    {
     "name": "stdout",
     "output_type": "stream",
     "text": [
      "1048576*(x**2 + 20*x + 95)*exp(2*x)\n"
     ]
    }
   ],
   "execution_count": 1
  },
  {
   "metadata": {},
   "cell_type": "markdown",
   "source": "                    3.4 隐函数及由参数方程所确定的函数的导数相关变化率",
   "id": "35213c4369976cce"
  },
  {
   "metadata": {},
   "cell_type": "markdown",
   "source": [
    "先看隐函数的作图问题：plot_implicit()可用来绘制隐函数图形。\n",
    "plot_implicit(expr,x_var=None,y_var=None)中\n",
    "1、expr表示要绘制的方程式或不等式；\n",
    "2、x_var表示要绘制在x轴上的符号或符号连同其变化范围所构成的元组，例如(x,xmin,xmax);\n",
    "3、y_var同x_var"
   ],
   "id": "333ebd1faf4dbb52"
  },
  {
   "metadata": {},
   "cell_type": "markdown",
   "source": "绘制函数$x^2 - x y + y^2 - 2 = 0$的图像",
   "id": "b34ff95be487ae49"
  },
  {
   "metadata": {
    "ExecuteTime": {
     "end_time": "2025-03-12T15:26:23.642901Z",
     "start_time": "2025-03-12T15:26:22.272324Z"
    }
   },
   "cell_type": "code",
   "source": [
    "import sympy as sy\n",
    "\n",
    "# 定义符号变量\n",
    "x, y = sy.symbols('x y')\n",
    "\n",
    "# 定义方程\n",
    "equation = x**2 - x*y + y**2 - 2\n",
    "\n",
    "# 使用 plot_implicit() 绘制图像\n",
    "sy.plot_implicit(equation, (x, -3, 3), (y, -3, 3), title=r\"$x^2 - x y + y^2 - 2 = 0$\")"
   ],
   "id": "11922badf89a7dc4",
   "outputs": [
    {
     "data": {
      "text/plain": [
       "<Figure size 640x480 with 1 Axes>"
      ],
      "image/png": "[encoded data removed]"
     },
     "metadata": {},
     "output_type": "display_data"
    },
    {
     "data": {
      "text/plain": [
       "<sympy.plotting.backends.matplotlibbackend.matplotlib.MatplotlibBackend at 0x1687378c690>"
      ]
     },
     "execution_count": 18,
     "metadata": {},
     "output_type": "execute_result"
    }
   ],
   "execution_count": 18
  },
  {
   "metadata": {
    "ExecuteTime": {
     "end_time": "2025-03-12T14:29:14.919563Z",
     "start_time": "2025-03-12T14:29:14.816988Z"
    }
   },
   "cell_type": "code",
   "source": [
    "import numpy as np\n",
    "import matplotlib.pyplot as plt\n",
    "\n",
    "# 生成x和y的坐标点\n",
    "x = np.linspace(-3, 3, 400)\n",
    "y = np.linspace(-3, 3, 400)\n",
    "X, Y = np.meshgrid(x, y)\n",
    "\n",
    "# 计算方程左边的值\n",
    "Z = X**2 - X * Y + Y**2 - 2\n",
    "\n",
    "# 绘制等高线Z=0\n",
    "plt.contour(X, Y, Z, levels=[0], colors='blue')\n",
    "\n",
    "# 设置图表标题和坐标轴标签\n",
    "plt.title('Plot of $x^2 - xy + y^2 - 2 = 0$')\n",
    "plt.xlabel('x')\n",
    "plt.ylabel('y')\n",
    "plt.grid(True)\n",
    "plt.axis('equal')  # 保证坐标轴比例一致\n",
    "plt.show()"
   ],
   "id": "c53cca82e79d441b",
   "outputs": [
    {
     "data": {
      "text/plain": [
       "<Figure size 640x480 with 1 Axes>"
      ],
      "image/png": "[encoded data removed]"
     },
     "metadata": {},
     "output_type": "display_data"
    }
   ],
   "execution_count": 8
  },
  {
   "metadata": {},
   "cell_type": "markdown",
   "source": "【例3.23】求由方程e^y+x*y-e=0所确定的隐函数的导数dy/dx。",
   "id": "1a3ba0bba262d3ed"
  },
  {
   "metadata": {
    "ExecuteTime": {
     "end_time": "2025-03-12T14:40:52.093501Z",
     "start_time": "2025-03-12T14:40:51.954304Z"
    }
   },
   "cell_type": "code",
   "source": [
    "import sympy as sy\n",
    "\n",
    "x = sy.symbols('x',real=True)\n",
    "y = sy.symbols('y',real=True)\n",
    "f = sy.E**y+x*y-sy.E\n",
    "idiff = sy.idiff(f,y,x)\n",
    "print(idiff)"
   ],
   "id": "826e27acd71a82d1",
   "outputs": [
    {
     "name": "stdout",
     "output_type": "stream",
     "text": [
      "-y/(x + exp(y))\n"
     ]
    }
   ],
   "execution_count": 12
  },
  {
   "metadata": {},
   "cell_type": "markdown",
   "source": [
    "隐函数求导的函数是idiff(eq,y,x,n=1)\n",
    "1、eq表示要求导的隐函数方程；\n",
    "2、y表示因变量或因变量列表；\n",
    "3、x表示要求导的变量；\n",
    "4、n表示求导的阶数，默认为1。"
   ],
   "id": "2e348eba6dfba391"
  },
  {
   "metadata": {},
   "cell_type": "markdown",
   "source": [
    "        隐函数手工求导的步骤（对x求导）：\n",
    "1、每一项对x求导，e^y对x求导等于e^y*dy/dx\n",
    "2、xy对x求导，dx/dx*y+x*dy/dx = y+x*dy/dx\n",
    "3、e对x求导，0\n",
    "4、e^y*dy/dx+y+x*dy/dx = 0\n",
    "5、合并同类项；（e^y+x)*dy/dx=-y  -->dy/dx = -y/(e^y+x)"
   ],
   "id": "35b21feb0db01c20"
  },
  {
   "metadata": {},
   "cell_type": "markdown",
   "source": "【例3.24】求方程y^5+2y-x-3*x^7=0所确定的隐函数的导数在x=0处的值dy/dx|x=0。",
   "id": "9d50bd2098e2dd19"
  },
  {
   "metadata": {
    "ExecuteTime": {
     "end_time": "2025-03-12T15:13:27.135015Z",
     "start_time": "2025-03-12T15:13:27.047096Z"
    }
   },
   "cell_type": "code",
   "source": [
    "import sympy as sy\n",
    "\n",
    "x = sy.symbols('x', real=True)\n",
    "y = sy.symbols('y', real=True)\n",
    "f = y**5 + 2*y - x - 3*x**7  # 定义隐函数方程\n",
    "\n",
    "# 计算隐函数的导数 dy/dx\n",
    "idiff = sy.idiff(f, y, x)\n",
    "print(\"导数 dy/dx =\", idiff)\n",
    "\n",
    "# 求解当 x=0 时的 y 值\n",
    "f_at_x0 = f.subs(x, 0)       # 将 x 替换为 0\n",
    "y_x_0 = sy.solve(f_at_x0, y) # 解方程 y**5 + 2y = 0\n",
    "print(\"当 x=0 时，y 的解为:\", y_x_0)\n",
    "\n",
    "# 计算 x=0, y=0 处的导数值（需手动代入）\n",
    "if 0 in y_x_0:\n",
    "    dy_dx_at_0 = idiff.subs({x: 0, y: 0})\n",
    "    print(\"在 (0, 0) 处的导数值 dy/dx =\", dy_dx_at_0)\n",
    "else:\n",
    "    print(\"没有实数解 y=0，无法计算导数。\")"
   ],
   "id": "563e737501ca8e96",
   "outputs": [
    {
     "name": "stdout",
     "output_type": "stream",
     "text": [
      "导数 dy/dx = (21*x**6 + 1)/(5*y**4 + 2)\n",
      "当 x=0 时，y 的解为: [0]\n",
      "在 (0, 0) 处的导数值 dy/dx = 1/2\n"
     ]
    }
   ],
   "execution_count": 16
  },
  {
   "metadata": {},
   "cell_type": "markdown",
   "source": "【例3.26】求方程x-y+1/2*sin(y)=0所确定的隐函数的二阶导数。",
   "id": "c7a673bd17fcebdd"
  },
  {
   "metadata": {
    "ExecuteTime": {
     "end_time": "2025-03-13T14:28:10.912127Z",
     "start_time": "2025-03-13T14:28:10.818969Z"
    }
   },
   "cell_type": "code",
   "source": [
    "import sympy as sy\n",
    "\n",
    "x,y = sy.symbols('x y')\n",
    "f = x-y+sy.sin(y)/2\n",
    "idiff = sy.idiff(f, y, x,n=2)\n",
    "print(sy.simplify(idiff))"
   ],
   "id": "1c426639c4c1ee3e",
   "outputs": [
    {
     "name": "stdout",
     "output_type": "stream",
     "text": [
      "4*sin(y)/(cos(y) - 2)**3\n"
     ]
    }
   ],
   "execution_count": 7
  },
  {
   "metadata": {},
   "cell_type": "markdown",
   "source": "【例3.27】求y = x**sin(x)的导数。",
   "id": "f8dba7ad7dd1c405"
  },
  {
   "metadata": {
    "ExecuteTime": {
     "end_time": "2025-03-13T14:31:24.324911Z",
     "start_time": "2025-03-13T14:31:24.316955Z"
    }
   },
   "cell_type": "code",
   "source": [
    "import sympy as sy\n",
    "\n",
    "x = sy.symbols('x',positive=True)\n",
    "y = x**sy.sin(x)\n",
    "print(y.diff(x))"
   ],
   "id": "40f335bcc06b03f1",
   "outputs": [
    {
     "name": "stdout",
     "output_type": "stream",
     "text": [
      "x**sin(x)*(log(x)*cos(x) + sin(x)/x)\n"
     ]
    }
   ],
   "execution_count": 10
  },
  {
   "metadata": {},
   "cell_type": "markdown",
   "source": "【例3.28】已知椭圆参数方程为x = a*cos(t),y = b*sin(t),求二阶导数。",
   "id": "4372eaff8073bc6b"
  },
  {
   "metadata": {
    "ExecuteTime": {
     "end_time": "2025-03-13T14:39:26.535653Z",
     "start_time": "2025-03-13T14:39:26.471190Z"
    }
   },
   "cell_type": "code",
   "source": [
    "import sympy as sy\n",
    "t,a,b = sy.symbols('t a b')\n",
    "x = a*sy.cos(t)\n",
    "y = b*sy.sin(t)\n",
    "diff_1_x = sy.diff(y,t)/sy.diff(x,t)\n",
    "print(sy.simplify(diff_1_x))\n",
    "diff_2_x= diff_1_x.diff(t)/x.diff(t)\n",
    "print(sy.simplify(diff_2_x))"
   ],
   "id": "b84a4b27af2bdd62",
   "outputs": [
    {
     "name": "stdout",
     "output_type": "stream",
     "text": [
      "-b/(a*tan(t))\n",
      "-b/(a**2*sin(t)**3)\n"
     ]
    }
   ],
   "execution_count": 15
  },
  {
   "metadata": {},
   "cell_type": "markdown",
   "source": "dy/dx = (dy/dt)/(dx/dt) = b*cos(t)/-a*sin(t) = -b/a*tan(t)",
   "id": "1077e3d1fd67ac71"
  },
  {
   "metadata": {},
   "cell_type": "markdown",
   "source": "二阶导数= (-b/a*cot(t)/dt)/(dx/dt)= (b/a*csc(t)**2)/(-a*sin(t))= -b/(a**2*sin(t)**3)",
   "id": "57d881a0e08f3c15"
  },
  {
   "metadata": {},
   "cell_type": "markdown",
   "source": "        参数方程的画图：",
   "id": "3be39f4e90fc3376"
  },
  {
   "metadata": {},
   "cell_type": "markdown",
   "source": "plot_parametric(expr_x,expr_y,range)",
   "id": "ddbde86c618fd3ba"
  },
  {
   "metadata": {},
   "cell_type": "markdown",
   "source": "其中：expr_x、expr_y分别代表x和y的表达式，range是由参数及参数范围所构成的三元元组。",
   "id": "41ea936319fa28cb"
  },
  {
   "metadata": {},
   "cell_type": "markdown",
   "source": "例：x = t - sin(t),y = 1 - cos(t),绘制该隐函数的图像。",
   "id": "b36f6f3f792eb28a"
  },
  {
   "metadata": {
    "ExecuteTime": {
     "end_time": "2025-03-13T15:13:34.471648Z",
     "start_time": "2025-03-13T15:13:34.368681Z"
    }
   },
   "cell_type": "code",
   "source": [
    "import sympy as sy\n",
    "t = sy.symbols('t')\n",
    "sy.plot_parametric(t-sy.sin(t),1-sy.cos(t),(t,-5*sy.pi/2,5*sy.pi/2))"
   ],
   "id": "3cfc56929098f894",
   "outputs": [
    {
     "data": {
      "text/plain": [
       "<Figure size 640x480 with 1 Axes>"
      ],
      "image/png": "[encoded data removed]"
     },
     "metadata": {},
     "output_type": "display_data"
    },
    {
     "data": {
      "text/plain": [
       "<sympy.plotting.backends.matplotlibbackend.matplotlib.MatplotlibBackend at 0x25aaa537250>"
      ]
     },
     "execution_count": 23,
     "metadata": {},
     "output_type": "execute_result"
    }
   ],
   "execution_count": 23
  },
  {
   "metadata": {},
   "cell_type": "markdown",
   "source": "用matlibplot.pyplot()进行作图。",
   "id": "c3a9def51b1f7f26"
  },
  {
   "metadata": {
    "ExecuteTime": {
     "end_time": "2025-03-13T15:23:11.606770Z",
     "start_time": "2025-03-13T15:23:11.529606Z"
    }
   },
   "cell_type": "code",
   "source": [
    "import numpy as np\n",
    "import matplotlib.pyplot as plt\n",
    "t =np.linspace(-5*np.pi/2,5*np.pi/2,500)\n",
    "fig, ax = plt.subplots()\n",
    "ax.plot(t-np.sin(t),1-np.cos(t))\n",
    "plt.grid(True)\n",
    "plt.show()"
   ],
   "id": "de1a8e19ac8fb245",
   "outputs": [
    {
     "data": {
      "text/plain": [
       "<Figure size 640x480 with 1 Axes>"
      ],
      "image/png": "[encoded data removed]"
     },
     "metadata": {},
     "output_type": "display_data"
    }
   ],
   "execution_count": 27
  }
 ],
 "metadata": {
  "kernelspec": {
   "display_name": "Python 3",
   "language": "python",
   "name": "python3"
  },
  "language_info": {
   "codemirror_mode": {
    "name": "ipython",
    "version": 2
   },
   "file_extension": ".py",
   "mimetype": "text/x-python",
   "name": "python",
   "nbconvert_exporter": "python",
   "pygments_lexer": "ipython2",
   "version": "2.7.6"
  }
 },
 "nbformat": 4,
 "nbformat_minor": 5
}
