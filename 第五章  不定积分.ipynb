{
 "cells": [
  {
   "metadata": {},
   "cell_type": "markdown",
   "source": "                                第五章  不定积分",
   "id": "5e2102b67506cbe2"
  },
  {
   "metadata": {},
   "cell_type": "markdown",
   "source": "                            5.1 不定积分的概念与性质",
   "id": "64671aabf2150766"
  },
  {
   "metadata": {},
   "cell_type": "markdown",
   "source": [
    "不定积分的概念\n",
    "    原函数：若函数F(x)的导数等于被积函数f(x)，即F′(x)=f(x)，则称F(x)为f(x)的一个原函数。"
   ],
   "id": "7a21a9d7e1128595"
  },
  {
   "metadata": {},
   "cell_type": "markdown",
   "source": [
    "​不定积分：所有原函数的集合，记作：\n",
    "∫f(x)dx=F(x)+C\n",
    "其中，C为任意常数（积分常数），表示原函数之间的垂直平移。"
   ],
   "id": "3ba0f500fb451697"
  },
  {
   "metadata": {},
   "cell_type": "markdown",
   "source": [
    "​线性性：\n",
    "\n",
    "∫[a⋅f(x)+b⋅g(x)]dx=a∫f(x)dx+b∫g(x)dx\n",
    "其中，a和b为常数。"
   ],
   "id": "d8b7dc44bbba26c1"
  },
  {
   "metadata": {},
   "cell_type": "markdown",
   "source": [
    "导数与积分的关系：\n",
    "\n",
    "微分后积分：\n",
    "dx\n",
    "d\n",
    "​\n",
    " (∫f(x)dx)=f(x)"
   ],
   "id": "719ab196b7c28f0f"
  },
  {
   "metadata": {},
   "cell_type": "markdown",
   "source": "积分后微分：∫f′(x)dx=f(x)+C",
   "id": "621ef7cdc041243f"
  },
  {
   "metadata": {},
   "cell_type": "markdown",
   "source": [
    "基本积分公式\n",
    "幂函数：\n",
    "\n",
    "$∫x^ndx=$ $\\frac {x^(n+1)}{(n+1)}+C(n≠1)\n",
    "特殊情况（n=−1）：\n",
    "∫1/xdx=ln∣x∣+C$"
   ],
   "id": "a027435e44333661"
  },
  {
   "metadata": {},
   "cell_type": "markdown",
   "source": [
    "​指数函数：\n",
    "\n",
    "$∫e^xdx=e^x+C,∫a^xdx=a^x/lna+C(a>0)$"
   ],
   "id": "31db185d7975a629"
  },
  {
   "metadata": {},
   "cell_type": "markdown",
   "source": [
    "​三角函数：\n",
    "\n",
    "$∫sinxdx=−cosx+C,∫cosxdx=sinx+C\n",
    "∫sec^2xdx=tanx+C,∫secxtanxdx=secx+C$"
   ],
   "id": "c911f9aa6448d2ce"
  },
  {
   "metadata": {},
   "cell_type": "markdown",
   "source": "注意事项：积分常数C：不可遗漏，它代表所有可能的原函数",
   "id": "46e84edec89d1554"
  },
  {
   "metadata": {},
   "cell_type": "markdown",
   "source": "        验证方法：通过求导验证积分结果的是否正确",
   "id": "709656e63734b472"
  },
  {
   "metadata": {},
   "cell_type": "markdown",
   "source": "        变量一致性：积分变量与被积函数的自变量一致",
   "id": "ec5bb524d81ecd01"
  },
  {
   "metadata": {},
   "cell_type": "markdown",
   "source": "        特殊函数：如$e^(x^2)$的积分无法用初等函数表示，需借助特殊函数或数值方法",
   "id": "ff386c46f8cc8848"
  },
  {
   "metadata": {},
   "cell_type": "markdown",
   "source": "常见误区：不定积分是函数族，定积分是数值",
   "id": "978dae5a90231203"
  },
  {
   "metadata": {},
   "cell_type": "markdown",
   "source": "【例5.1】求$\\int$$x^2dx$",
   "id": "e0e122fa3e3e37b8"
  },
  {
   "metadata": {
    "ExecuteTime": {
     "end_time": "2025-03-27T14:16:46.784839Z",
     "start_time": "2025-03-27T14:16:46.021345Z"
    }
   },
   "cell_type": "code",
   "source": [
    "import sympy as sp\n",
    "from sympy import simplify\n",
    "\n",
    "x = sp.Symbol('x')\n",
    "y = sp.integrate(x**2,x)\n",
    "print(y)"
   ],
   "id": "d60e8ebe1e7b1c13",
   "outputs": [
    {
     "name": "stdout",
     "output_type": "stream",
     "text": [
      "x**3/3\n"
     ]
    }
   ],
   "execution_count": 1
  },
  {
   "metadata": {},
   "cell_type": "markdown",
   "source": "注意：积分结果不会自动添加任意常数C",
   "id": "1d7d11ebdd0b8f32"
  },
  {
   "metadata": {},
   "cell_type": "markdown",
   "source": "【例5.2】 $\\int$$\\frac {(x-1)^3}{x^2}dx$",
   "id": "f9118eb47cd6da33"
  },
  {
   "metadata": {
    "ExecuteTime": {
     "end_time": "2025-03-27T14:25:21.631785Z",
     "start_time": "2025-03-27T14:25:21.590557Z"
    }
   },
   "cell_type": "code",
   "source": [
    "import sympy as sp\n",
    "x = sp.Symbol('x')\n",
    "y = sp.integrate((x-1)**3/x**2,x)\n",
    "print(y)"
   ],
   "id": "db115af66abddb86",
   "outputs": [
    {
     "name": "stdout",
     "output_type": "stream",
     "text": [
      "x**2/2 - 3*x + 3*log(x) + 1/x\n"
     ]
    }
   ],
   "execution_count": 2
  },
  {
   "metadata": {},
   "cell_type": "markdown",
   "source": "【例5.3】$\\int sin^2$$\\frac x2dx$",
   "id": "fc71670ebbc2ec08"
  },
  {
   "metadata": {
    "ExecuteTime": {
     "end_time": "2025-03-27T15:57:52.429144Z",
     "start_time": "2025-03-27T15:57:52.419109Z"
    }
   },
   "cell_type": "code",
   "source": [
    "import sympy as sp\n",
    "\n",
    "x = sp.Symbol('x')\n",
    "y = sp.integrate(sp.sin(x/2)**2,x)\n",
    "print(y)"
   ],
   "id": "6b3d80f03491c955",
   "outputs": [
    {
     "name": "stdout",
     "output_type": "stream",
     "text": [
      "x/2 - sin(x/2)*cos(x/2)\n"
     ]
    }
   ],
   "execution_count": 5
  },
  {
   "metadata": {},
   "cell_type": "markdown",
   "source": "【例5.4】$\\int$$\\frac {2x^4+x^2+3} {x^2+1}dx$",
   "id": "863cab4c3ace36b"
  },
  {
   "metadata": {
    "ExecuteTime": {
     "end_time": "2025-03-27T16:03:40.682471Z",
     "start_time": "2025-03-27T16:03:40.641804Z"
    }
   },
   "cell_type": "code",
   "source": [
    "import sympy as sp\n",
    "\n",
    "x = sp.Symbol('x')\n",
    "def ex_4(x):\n",
    "    return (2*x**4+x**2+3)/(x**2+1)\n",
    "y = sp.integrate(ex_4(x),x)\n",
    "print(y)"
   ],
   "id": "4d9287e9a78c1bb8",
   "outputs": [
    {
     "name": "stdout",
     "output_type": "stream",
     "text": [
      "2*x**3/3 - x + 4*atan(x)\n"
     ]
    }
   ],
   "execution_count": 7
  },
  {
   "metadata": {},
   "cell_type": "markdown",
   "source": "                            5.2 换元积分",
   "id": "6059615350136838"
  },
  {
   "metadata": {},
   "cell_type": "markdown",
   "source": "【例5.5】求$\\int$$\\frac{1}{a^2+x^2}dx(a≠0)$",
   "id": "8ed6c74c686a1d57"
  },
  {
   "metadata": {
    "ExecuteTime": {
     "end_time": "2025-03-28T14:30:04.889231Z",
     "start_time": "2025-03-28T14:30:04.191092Z"
    }
   },
   "cell_type": "code",
   "source": [
    "import sympy as sp\n",
    "\n",
    "x,a = sp.symbols('x a',real=True)\n",
    "def f(x):\n",
    "    return 1/(a**2+x**2)\n",
    "y = sp.integrate(f(x),x)\n",
    "print(y)"
   ],
   "id": "9d0116f250e49c56",
   "outputs": [
    {
     "name": "stdout",
     "output_type": "stream",
     "text": [
      "atan(x/a)/a\n"
     ]
    }
   ],
   "execution_count": 1
  },
  {
   "metadata": {},
   "cell_type": "markdown",
   "source": "【例5.6】求$\\int$$sin^2xcos^4x$dx.",
   "id": "e1b8c7bc45547838"
  },
  {
   "metadata": {
    "ExecuteTime": {
     "end_time": "2025-03-28T14:36:29.215214Z",
     "start_time": "2025-03-28T14:36:29.206513Z"
    }
   },
   "cell_type": "code",
   "source": [
    "import sympy as sp\n",
    "\n",
    "x = sp.Symbol('x',real=True)\n",
    "def f(x):\n",
    "    return sp.sin(x)**2*sp.cos(x)**4\n",
    "y = sp.integrate(f(x),x)\n",
    "print(y)"
   ],
   "id": "49b4e66055fc49b4",
   "outputs": [
    {
     "name": "stdout",
     "output_type": "stream",
     "text": [
      "x/16 - sin(x)*cos(x)**5/6 + sin(x)*cos(x)**3/24 + sin(x)*cos(x)/16\n"
     ]
    }
   ],
   "execution_count": 5
  },
  {
   "metadata": {},
   "cell_type": "markdown",
   "source": "【例5.7】求$\\int$$cscxdx$",
   "id": "5b218c0a6ecb5151"
  },
  {
   "metadata": {
    "ExecuteTime": {
     "end_time": "2025-03-28T14:39:34.262422Z",
     "start_time": "2025-03-28T14:39:34.174541Z"
    }
   },
   "cell_type": "code",
   "source": [
    "import sympy as sp\n",
    "\n",
    "x = sp.Symbol('x',real=True)\n",
    "def f(x):\n",
    "    return sp.csc(x)\n",
    "y = sp.integrate(f(x),x)\n",
    "print(sp.simplify(y))"
   ],
   "id": "d1bea2d760029247",
   "outputs": [
    {
     "name": "stdout",
     "output_type": "stream",
     "text": [
      "log(cos(x) - 1)/2 - log(cos(x) + 1)/2\n"
     ]
    }
   ],
   "execution_count": 7
  },
  {
   "metadata": {},
   "cell_type": "markdown",
   "source": "【例5.8】求$\\int$$\\sqrt {a^2-x^2} dx(a>0)$",
   "id": "67f5ff327ebb2ca1"
  },
  {
   "metadata": {
    "ExecuteTime": {
     "end_time": "2025-03-28T14:50:46.096774Z",
     "start_time": "2025-03-28T14:50:46.012941Z"
    }
   },
   "cell_type": "code",
   "source": [
    "import sympy as sp\n",
    "\n",
    "a = sp.Symbol('a',positive=True)\n",
    "x = sp.Symbol('x',real=True)\n",
    "def f(x):\n",
    "    return sp.sqrt(a**2-x**2)\n",
    "y = sp.integrate(f(x),x)\n",
    "print(y)"
   ],
   "id": "79616ad7d7f455b4",
   "outputs": [
    {
     "name": "stdout",
     "output_type": "stream",
     "text": [
      "a**2*asin(x/a)/2 + x*sqrt(a**2 - x**2)/2\n"
     ]
    }
   ],
   "execution_count": 13
  },
  {
   "metadata": {},
   "cell_type": "markdown",
   "source": "【例5.10】求$\\int$$\\frac {x^3}{(x^2-2x+2)^2}$dx。",
   "id": "929cd584501e6ed4"
  },
  {
   "metadata": {
    "ExecuteTime": {
     "end_time": "2025-03-28T14:57:35.900358Z",
     "start_time": "2025-03-28T14:57:35.865378Z"
    }
   },
   "cell_type": "code",
   "source": [
    "import sympy as sp\n",
    "x = sp.Symbol('x',real=True)\n",
    "# 定义被积分表达式\n",
    "integrand = x**3/(x**2-2*x+2)**2\n",
    "# 计算积分\n",
    "result = sp.integrate(integrand,x)\n",
    "print(result)"
   ],
   "id": "773819a21ab7e731",
   "outputs": [
    {
     "name": "stdout",
     "output_type": "stream",
     "text": [
      "-x/(x**2 - 2*x + 2) + log(x**2 - 2*x + 2)/2 + 2*atan(x - 1)\n"
     ]
    }
   ],
   "execution_count": 16
  },
  {
   "metadata": {},
   "cell_type": "markdown",
   "source": "                            5.3 分部积分法",
   "id": "f3db065a12f33a62"
  },
  {
   "metadata": {},
   "cell_type": "markdown",
   "source": "【例5.11】求$\\int$$x * atan(x)$dx",
   "id": "190c4ee8115f5c44"
  },
  {
   "metadata": {
    "ExecuteTime": {
     "end_time": "2025-03-28T15:04:19.154176Z",
     "start_time": "2025-03-28T15:04:19.083781Z"
    }
   },
   "cell_type": "code",
   "source": [
    "import sympy as sp\n",
    "x = sp.Symbol('x',real=True)\n",
    "integrand = x*sp.atan(x)\n",
    "result = sp.integrate(integrand,x)\n",
    "print(result)"
   ],
   "id": "a817ba96eb2eac0c",
   "outputs": [
    {
     "name": "stdout",
     "output_type": "stream",
     "text": [
      "x**2*atan(x)/2 - x/2 + atan(x)/2\n"
     ]
    }
   ],
   "execution_count": 18
  },
  {
   "metadata": {},
   "cell_type": "markdown",
   "source": "【例5.12】求$\\int$$e^xsin(x)$dx",
   "id": "b6315b2a866be3d0"
  },
  {
   "metadata": {
    "ExecuteTime": {
     "end_time": "2025-03-28T15:07:47.486556Z",
     "start_time": "2025-03-28T15:07:47.390374Z"
    }
   },
   "cell_type": "code",
   "source": [
    "import sympy as sp\n",
    "x = sp.Symbol('x',real=True)\n",
    "integrand = sp.E**x*sp.sin(x)\n",
    "result = sp.integrate(integrand,x)\n",
    "print(result)"
   ],
   "id": "99e5e26b3b5c9de",
   "outputs": [
    {
     "name": "stdout",
     "output_type": "stream",
     "text": [
      "exp(x)*sin(x)/2 - exp(x)*cos(x)/2\n"
     ]
    }
   ],
   "execution_count": 23
  },
  {
   "metadata": {},
   "cell_type": "markdown",
   "source": "【例5.13】求$\\int$$sec^3x$dx",
   "id": "2cf9f5a41d04b5aa"
  },
  {
   "metadata": {
    "ExecuteTime": {
     "end_time": "2025-03-28T15:10:17.958048Z",
     "start_time": "2025-03-28T15:10:17.904081Z"
    }
   },
   "cell_type": "code",
   "source": [
    "import sympy as sp\n",
    "x = sp.Symbol('x',real=True)\n",
    "integrand = sp.sec(x)**3\n",
    "result = sp.integrate(integrand,x)\n",
    "print(result)"
   ],
   "id": "3347ab580f03db4f",
   "outputs": [
    {
     "name": "stdout",
     "output_type": "stream",
     "text": [
      "-log(sin(x) - 1)/4 + log(sin(x) + 1)/4 - sin(x)/(2*sin(x)**2 - 2)\n"
     ]
    }
   ],
   "execution_count": 24
  },
  {
   "metadata": {},
   "cell_type": "markdown",
   "source": "                            5.4 有理函数的积分",
   "id": "f947f3d2c2ffe619"
  },
  {
   "metadata": {},
   "cell_type": "markdown",
   "source": "几个初等运算函数",
   "id": "1e633cc7d469053"
  },
  {
   "metadata": {},
   "cell_type": "markdown",
   "source": "1、cancel()函数：有理函数的约分，分子分母为整系数的多项式且分子分母无公因子。",
   "id": "2d4bbfc9a23f1ceb"
  },
  {
   "metadata": {},
   "cell_type": "markdown",
   "source": "2、expand()函数：将函数展开成标准的多项式的形式，它同时提供多种展开方法，可根据实际需要选取。",
   "id": "bd00c60d8931ccf6"
  },
  {
   "metadata": {},
   "cell_type": "markdown",
   "source": "3、factor()函数：将函数分解为有理域上的不能再分解的因子乘积（分解因式）。",
   "id": "fdc78117614e0c0f"
  },
  {
   "metadata": {},
   "cell_type": "markdown",
   "source": "4、apart()函数：对有理函数执行部分分式分解。",
   "id": "29363dfddac93af4"
  },
  {
   "metadata": {},
   "cell_type": "markdown",
   "source": "上述几个函数可以被看作“化简”函数，当simplify()的化简结果偏离预期时，可考虑上述特定功能的“化简”函数。",
   "id": "91406d7fcc0f5aae"
  },
  {
   "metadata": {},
   "cell_type": "markdown",
   "source": "【例5.14】求$\\int$$\\frac {x+2}{(2x+1)(x^2+x+1)}$dx。",
   "id": "96c671e1c782a2a4"
  },
  {
   "metadata": {
    "ExecuteTime": {
     "end_time": "2025-03-28T15:22:02.423354Z",
     "start_time": "2025-03-28T15:22:02.337152Z"
    }
   },
   "cell_type": "code",
   "source": [
    "import sympy as sp\n",
    "x = sp.Symbol('x',real=True)\n",
    "integrand = (x+2)/((2*x+1)*(x**2+x+1))\n",
    "result = sp.integrate(integrand,x)\n",
    "print(result)"
   ],
   "id": "896152c2a29e3a52",
   "outputs": [
    {
     "name": "stdout",
     "output_type": "stream",
     "text": [
      "log(x + 1/2) - log(x**2 + x + 1)/2 + sqrt(3)*atan(2*sqrt(3)*x/3 + sqrt(3)/3)/3\n"
     ]
    }
   ],
   "execution_count": 26
  },
  {
   "metadata": {},
   "cell_type": "markdown",
   "source": "【例5.15】求$\\int$$\\frac {x-3}{(x-1)(x^2-1)}$dx。",
   "id": "9e945244abb455d0"
  },
  {
   "metadata": {
    "ExecuteTime": {
     "end_time": "2025-03-28T15:24:15.420673Z",
     "start_time": "2025-03-28T15:24:15.380158Z"
    }
   },
   "cell_type": "code",
   "source": [
    "import sympy as sp\n",
    "x = sp.Symbol('x',real=True)\n",
    "integrand = (x-3)/((x-1)*(x**2-1))\n",
    "result = sp.integrate(integrand,x)\n",
    "print(result)"
   ],
   "id": "c1125d8d2978b0d0",
   "outputs": [
    {
     "name": "stdout",
     "output_type": "stream",
     "text": [
      "log(x - 1) - log(x + 1) + 1/(x - 1)\n"
     ]
    }
   ],
   "execution_count": 27
  },
  {
   "metadata": {},
   "cell_type": "markdown",
   "source": "【例5.16】求$\\int$$\\frac {1+sinx}{sinx(1+cosx)}$dx。",
   "id": "33f40d06dbccd415"
  },
  {
   "metadata": {
    "ExecuteTime": {
     "end_time": "2025-03-28T15:26:29.140902Z",
     "start_time": "2025-03-28T15:26:28.947132Z"
    }
   },
   "cell_type": "code",
   "source": [
    "import sympy as sp\n",
    "x = sp.Symbol('x',real=True)\n",
    "integrand = (1+sp.sin(x))/(sp.sin(x)*(1+sp.cos(x)))\n",
    "result = sp.integrate(integrand,x)\n",
    "print(result)"
   ],
   "id": "5de6a770ffb1b433",
   "outputs": [
    {
     "name": "stdout",
     "output_type": "stream",
     "text": [
      "log(tan(x/2))/2 + tan(x/2)**2/4 + tan(x/2)\n"
     ]
    }
   ],
   "execution_count": 28
  },
  {
   "metadata": {},
   "cell_type": "markdown",
   "source": "【例5.17】求$$ \\int \\frac{1}{(1 + \\sqrt[3]{x}) \\sqrt{x}} \\, dx $$",
   "id": "ffa017b87f800456"
  },
  {
   "metadata": {
    "ExecuteTime": {
     "end_time": "2025-03-28T15:56:00.130692Z",
     "start_time": "2025-03-28T15:55:59.988747Z"
    }
   },
   "cell_type": "code",
   "source": [
    "import sympy as sp\n",
    "\n",
    "x = sp.Symbol('x', positive=True)\n",
    "# 原题的正确被积函数表达式\n",
    "integrand = 1 / ((1 + x**sp.Rational(1,3)) * sp.sqrt(x))\n",
    "result = sp.integrate(integrand, x)\n",
    "print(result)  # 输出: 6*x**(1/6) - 6*atan(x**(1/6))"
   ],
   "id": "1168e7fbd40121df",
   "outputs": [
    {
     "name": "stdout",
     "output_type": "stream",
     "text": [
      "6*x**(1/6) - 6*atan(x**(1/6))\n"
     ]
    }
   ],
   "execution_count": 37
  }
 ],
 "metadata": {
  "kernelspec": {
   "display_name": "Python 3",
   "language": "python",
   "name": "python3"
  },
  "language_info": {
   "codemirror_mode": {
    "name": "ipython",
    "version": 2
   },
   "file_extension": ".py",
   "mimetype": "text/x-python",
   "name": "python",
   "nbconvert_exporter": "python",
   "pygments_lexer": "ipython2",
   "version": "2.7.6"
  }
 },
 "nbformat": 4,
 "nbformat_minor": 5
}
